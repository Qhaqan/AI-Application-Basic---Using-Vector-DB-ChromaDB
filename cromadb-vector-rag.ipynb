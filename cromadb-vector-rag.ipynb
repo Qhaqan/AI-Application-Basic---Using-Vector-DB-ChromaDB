{
 "cells": [
  {
   "cell_type": "code",
   "execution_count": 1,
   "metadata": {},
   "outputs": [
    {
     "name": "stdout",
     "output_type": "stream",
     "text": [
      "Requirement already satisfied: openai in c:\\users\\dell\\appdata\\local\\packages\\pythonsoftwarefoundation.python.3.10_qbz5n2kfra8p0\\localcache\\local-packages\\python310\\site-packages (0.28.0)\n",
      "Requirement already satisfied: chromadb in c:\\users\\dell\\appdata\\local\\packages\\pythonsoftwarefoundation.python.3.10_qbz5n2kfra8p0\\localcache\\local-packages\\python310\\site-packages (0.4.22)\n",
      "Requirement already satisfied: pypdf2 in c:\\users\\dell\\appdata\\local\\packages\\pythonsoftwarefoundation.python.3.10_qbz5n2kfra8p0\\localcache\\local-packages\\python310\\site-packages (3.0.1)\n",
      "Requirement already satisfied: requests>=2.20 in c:\\users\\dell\\appdata\\local\\packages\\pythonsoftwarefoundation.python.3.10_qbz5n2kfra8p0\\localcache\\local-packages\\python310\\site-packages (from openai) (2.30.0)\n",
      "Requirement already satisfied: tqdm in c:\\users\\dell\\appdata\\local\\packages\\pythonsoftwarefoundation.python.3.10_qbz5n2kfra8p0\\localcache\\local-packages\\python310\\site-packages (from openai) (4.65.0)\n",
      "Requirement already satisfied: aiohttp in c:\\users\\dell\\appdata\\local\\packages\\pythonsoftwarefoundation.python.3.10_qbz5n2kfra8p0\\localcache\\local-packages\\python310\\site-packages (from openai) (3.8.5)\n",
      "Requirement already satisfied: build>=1.0.3 in c:\\users\\dell\\appdata\\local\\packages\\pythonsoftwarefoundation.python.3.10_qbz5n2kfra8p0\\localcache\\local-packages\\python310\\site-packages (from chromadb) (1.0.3)\n",
      "Requirement already satisfied: pydantic>=1.9 in c:\\users\\dell\\appdata\\local\\packages\\pythonsoftwarefoundation.python.3.10_qbz5n2kfra8p0\\localcache\\local-packages\\python310\\site-packages (from chromadb) (2.6.0)\n",
      "Requirement already satisfied: chroma-hnswlib==0.7.3 in c:\\users\\dell\\appdata\\local\\packages\\pythonsoftwarefoundation.python.3.10_qbz5n2kfra8p0\\localcache\\local-packages\\python310\\site-packages (from chromadb) (0.7.3)\n",
      "Requirement already satisfied: fastapi>=0.95.2 in c:\\users\\dell\\appdata\\local\\packages\\pythonsoftwarefoundation.python.3.10_qbz5n2kfra8p0\\localcache\\local-packages\\python310\\site-packages (from chromadb) (0.109.2)\n",
      "Requirement already satisfied: uvicorn>=0.18.3 in c:\\users\\dell\\appdata\\local\\packages\\pythonsoftwarefoundation.python.3.10_qbz5n2kfra8p0\\localcache\\local-packages\\python310\\site-packages (from uvicorn[standard]>=0.18.3->chromadb) (0.27.0.post1)\n",
      "Requirement already satisfied: numpy>=1.22.5 in c:\\users\\dell\\appdata\\local\\packages\\pythonsoftwarefoundation.python.3.10_qbz5n2kfra8p0\\localcache\\local-packages\\python310\\site-packages (from chromadb) (1.24.3)\n",
      "Requirement already satisfied: posthog>=2.4.0 in c:\\users\\dell\\appdata\\local\\packages\\pythonsoftwarefoundation.python.3.10_qbz5n2kfra8p0\\localcache\\local-packages\\python310\\site-packages (from chromadb) (3.4.0)\n",
      "Requirement already satisfied: typing-extensions>=4.5.0 in c:\\users\\dell\\appdata\\local\\packages\\pythonsoftwarefoundation.python.3.10_qbz5n2kfra8p0\\localcache\\local-packages\\python310\\site-packages (from chromadb) (4.9.0)\n",
      "Requirement already satisfied: pulsar-client>=3.1.0 in c:\\users\\dell\\appdata\\local\\packages\\pythonsoftwarefoundation.python.3.10_qbz5n2kfra8p0\\localcache\\local-packages\\python310\\site-packages (from chromadb) (3.4.0)\n",
      "Requirement already satisfied: onnxruntime>=1.14.1 in c:\\users\\dell\\appdata\\local\\packages\\pythonsoftwarefoundation.python.3.10_qbz5n2kfra8p0\\localcache\\local-packages\\python310\\site-packages (from chromadb) (1.17.0)\n",
      "Requirement already satisfied: opentelemetry-api>=1.2.0 in c:\\users\\dell\\appdata\\local\\packages\\pythonsoftwarefoundation.python.3.10_qbz5n2kfra8p0\\localcache\\local-packages\\python310\\site-packages (from chromadb) (1.22.0)\n",
      "Requirement already satisfied: opentelemetry-exporter-otlp-proto-grpc>=1.2.0 in c:\\users\\dell\\appdata\\local\\packages\\pythonsoftwarefoundation.python.3.10_qbz5n2kfra8p0\\localcache\\local-packages\\python310\\site-packages (from chromadb) (1.22.0)\n",
      "Requirement already satisfied: opentelemetry-instrumentation-fastapi>=0.41b0 in c:\\users\\dell\\appdata\\local\\packages\\pythonsoftwarefoundation.python.3.10_qbz5n2kfra8p0\\localcache\\local-packages\\python310\\site-packages (from chromadb) (0.43b0)\n",
      "Requirement already satisfied: opentelemetry-sdk>=1.2.0 in c:\\users\\dell\\appdata\\local\\packages\\pythonsoftwarefoundation.python.3.10_qbz5n2kfra8p0\\localcache\\local-packages\\python310\\site-packages (from chromadb) (1.22.0)\n",
      "Requirement already satisfied: tokenizers>=0.13.2 in c:\\users\\dell\\appdata\\local\\packages\\pythonsoftwarefoundation.python.3.10_qbz5n2kfra8p0\\localcache\\local-packages\\python310\\site-packages (from chromadb) (0.15.2)\n",
      "Requirement already satisfied: pypika>=0.48.9 in c:\\users\\dell\\appdata\\local\\packages\\pythonsoftwarefoundation.python.3.10_qbz5n2kfra8p0\\localcache\\local-packages\\python310\\site-packages (from chromadb) (0.48.9)\n",
      "Requirement already satisfied: overrides>=7.3.1 in c:\\users\\dell\\appdata\\local\\packages\\pythonsoftwarefoundation.python.3.10_qbz5n2kfra8p0\\localcache\\local-packages\\python310\\site-packages (from chromadb) (7.7.0)\n",
      "Requirement already satisfied: importlib-resources in c:\\users\\dell\\appdata\\local\\packages\\pythonsoftwarefoundation.python.3.10_qbz5n2kfra8p0\\localcache\\local-packages\\python310\\site-packages (from chromadb) (6.1.1)\n",
      "Requirement already satisfied: grpcio>=1.58.0 in c:\\users\\dell\\appdata\\local\\packages\\pythonsoftwarefoundation.python.3.10_qbz5n2kfra8p0\\localcache\\local-packages\\python310\\site-packages (from chromadb) (1.60.1)\n",
      "Requirement already satisfied: bcrypt>=4.0.1 in c:\\users\\dell\\appdata\\local\\packages\\pythonsoftwarefoundation.python.3.10_qbz5n2kfra8p0\\localcache\\local-packages\\python310\\site-packages (from chromadb) (4.1.2)\n",
      "Requirement already satisfied: typer>=0.9.0 in c:\\users\\dell\\appdata\\local\\packages\\pythonsoftwarefoundation.python.3.10_qbz5n2kfra8p0\\localcache\\local-packages\\python310\\site-packages (from chromadb) (0.9.0)\n",
      "Requirement already satisfied: kubernetes>=28.1.0 in c:\\users\\dell\\appdata\\local\\packages\\pythonsoftwarefoundation.python.3.10_qbz5n2kfra8p0\\localcache\\local-packages\\python310\\site-packages (from chromadb) (29.0.0)\n",
      "Requirement already satisfied: tenacity>=8.2.3 in c:\\users\\dell\\appdata\\local\\packages\\pythonsoftwarefoundation.python.3.10_qbz5n2kfra8p0\\localcache\\local-packages\\python310\\site-packages (from chromadb) (8.2.3)\n",
      "Requirement already satisfied: PyYAML>=6.0.0 in c:\\users\\dell\\appdata\\local\\packages\\pythonsoftwarefoundation.python.3.10_qbz5n2kfra8p0\\localcache\\local-packages\\python310\\site-packages (from chromadb) (6.0)\n",
      "Requirement already satisfied: mmh3>=4.0.1 in c:\\users\\dell\\appdata\\local\\packages\\pythonsoftwarefoundation.python.3.10_qbz5n2kfra8p0\\localcache\\local-packages\\python310\\site-packages (from chromadb) (4.1.0)\n",
      "Requirement already satisfied: packaging>=19.0 in c:\\users\\dell\\appdata\\local\\packages\\pythonsoftwarefoundation.python.3.10_qbz5n2kfra8p0\\localcache\\local-packages\\python310\\site-packages (from build>=1.0.3->chromadb) (23.2)\n",
      "Requirement already satisfied: pyproject_hooks in c:\\users\\dell\\appdata\\local\\packages\\pythonsoftwarefoundation.python.3.10_qbz5n2kfra8p0\\localcache\\local-packages\\python310\\site-packages (from build>=1.0.3->chromadb) (1.0.0)\n",
      "Requirement already satisfied: colorama in c:\\users\\dell\\appdata\\local\\packages\\pythonsoftwarefoundation.python.3.10_qbz5n2kfra8p0\\localcache\\local-packages\\python310\\site-packages (from build>=1.0.3->chromadb) (0.4.6)\n",
      "Requirement already satisfied: tomli>=1.1.0 in c:\\users\\dell\\appdata\\local\\packages\\pythonsoftwarefoundation.python.3.10_qbz5n2kfra8p0\\localcache\\local-packages\\python310\\site-packages (from build>=1.0.3->chromadb) (2.0.1)\n",
      "Requirement already satisfied: starlette<0.37.0,>=0.36.3 in c:\\users\\dell\\appdata\\local\\packages\\pythonsoftwarefoundation.python.3.10_qbz5n2kfra8p0\\localcache\\local-packages\\python310\\site-packages (from fastapi>=0.95.2->chromadb) (0.36.3)\n",
      "Requirement already satisfied: certifi>=14.05.14 in c:\\users\\dell\\appdata\\local\\packages\\pythonsoftwarefoundation.python.3.10_qbz5n2kfra8p0\\localcache\\local-packages\\python310\\site-packages (from kubernetes>=28.1.0->chromadb) (2023.5.7)\n",
      "Requirement already satisfied: six>=1.9.0 in c:\\users\\dell\\appdata\\local\\packages\\pythonsoftwarefoundation.python.3.10_qbz5n2kfra8p0\\localcache\\local-packages\\python310\\site-packages (from kubernetes>=28.1.0->chromadb) (1.16.0)\n",
      "Requirement already satisfied: python-dateutil>=2.5.3 in c:\\users\\dell\\appdata\\local\\packages\\pythonsoftwarefoundation.python.3.10_qbz5n2kfra8p0\\localcache\\local-packages\\python310\\site-packages (from kubernetes>=28.1.0->chromadb) (2.8.2)\n",
      "Requirement already satisfied: google-auth>=1.0.1 in c:\\users\\dell\\appdata\\local\\packages\\pythonsoftwarefoundation.python.3.10_qbz5n2kfra8p0\\localcache\\local-packages\\python310\\site-packages (from kubernetes>=28.1.0->chromadb) (2.27.0)\n",
      "Requirement already satisfied: websocket-client!=0.40.0,!=0.41.*,!=0.42.*,>=0.32.0 in c:\\users\\dell\\appdata\\local\\packages\\pythonsoftwarefoundation.python.3.10_qbz5n2kfra8p0\\localcache\\local-packages\\python310\\site-packages (from kubernetes>=28.1.0->chromadb) (1.5.2)\n",
      "Requirement already satisfied: requests-oauthlib in c:\\users\\dell\\appdata\\local\\packages\\pythonsoftwarefoundation.python.3.10_qbz5n2kfra8p0\\localcache\\local-packages\\python310\\site-packages (from kubernetes>=28.1.0->chromadb) (1.3.1)\n",
      "Requirement already satisfied: oauthlib>=3.2.2 in c:\\users\\dell\\appdata\\local\\packages\\pythonsoftwarefoundation.python.3.10_qbz5n2kfra8p0\\localcache\\local-packages\\python310\\site-packages (from kubernetes>=28.1.0->chromadb) (3.2.2)\n",
      "Requirement already satisfied: urllib3>=1.24.2 in c:\\users\\dell\\appdata\\local\\packages\\pythonsoftwarefoundation.python.3.10_qbz5n2kfra8p0\\localcache\\local-packages\\python310\\site-packages (from kubernetes>=28.1.0->chromadb) (2.0.2)\n",
      "Requirement already satisfied: coloredlogs in c:\\users\\dell\\appdata\\local\\packages\\pythonsoftwarefoundation.python.3.10_qbz5n2kfra8p0\\localcache\\local-packages\\python310\\site-packages (from onnxruntime>=1.14.1->chromadb) (15.0.1)\n",
      "Requirement already satisfied: flatbuffers in c:\\users\\dell\\appdata\\local\\packages\\pythonsoftwarefoundation.python.3.10_qbz5n2kfra8p0\\localcache\\local-packages\\python310\\site-packages (from onnxruntime>=1.14.1->chromadb) (23.5.26)\n",
      "Requirement already satisfied: protobuf in c:\\users\\dell\\appdata\\local\\packages\\pythonsoftwarefoundation.python.3.10_qbz5n2kfra8p0\\localcache\\local-packages\\python310\\site-packages (from onnxruntime>=1.14.1->chromadb) (4.24.3)\n",
      "Requirement already satisfied: sympy in c:\\users\\dell\\appdata\\local\\packages\\pythonsoftwarefoundation.python.3.10_qbz5n2kfra8p0\\localcache\\local-packages\\python310\\site-packages (from onnxruntime>=1.14.1->chromadb) (1.12)\n",
      "Requirement already satisfied: deprecated>=1.2.6 in c:\\users\\dell\\appdata\\local\\packages\\pythonsoftwarefoundation.python.3.10_qbz5n2kfra8p0\\localcache\\local-packages\\python310\\site-packages (from opentelemetry-api>=1.2.0->chromadb) (1.2.14)\n",
      "Requirement already satisfied: importlib-metadata<7.0,>=6.0 in c:\\users\\dell\\appdata\\local\\packages\\pythonsoftwarefoundation.python.3.10_qbz5n2kfra8p0\\localcache\\local-packages\\python310\\site-packages (from opentelemetry-api>=1.2.0->chromadb) (6.11.0)\n",
      "Requirement already satisfied: backoff<3.0.0,>=1.10.0 in c:\\users\\dell\\appdata\\local\\packages\\pythonsoftwarefoundation.python.3.10_qbz5n2kfra8p0\\localcache\\local-packages\\python310\\site-packages (from opentelemetry-exporter-otlp-proto-grpc>=1.2.0->chromadb) (2.2.1)\n",
      "Requirement already satisfied: googleapis-common-protos~=1.52 in c:\\users\\dell\\appdata\\local\\packages\\pythonsoftwarefoundation.python.3.10_qbz5n2kfra8p0\\localcache\\local-packages\\python310\\site-packages (from opentelemetry-exporter-otlp-proto-grpc>=1.2.0->chromadb) (1.62.0)\n",
      "Requirement already satisfied: opentelemetry-exporter-otlp-proto-common==1.22.0 in c:\\users\\dell\\appdata\\local\\packages\\pythonsoftwarefoundation.python.3.10_qbz5n2kfra8p0\\localcache\\local-packages\\python310\\site-packages (from opentelemetry-exporter-otlp-proto-grpc>=1.2.0->chromadb) (1.22.0)\n",
      "Requirement already satisfied: opentelemetry-proto==1.22.0 in c:\\users\\dell\\appdata\\local\\packages\\pythonsoftwarefoundation.python.3.10_qbz5n2kfra8p0\\localcache\\local-packages\\python310\\site-packages (from opentelemetry-exporter-otlp-proto-grpc>=1.2.0->chromadb) (1.22.0)\n",
      "Requirement already satisfied: opentelemetry-instrumentation-asgi==0.43b0 in c:\\users\\dell\\appdata\\local\\packages\\pythonsoftwarefoundation.python.3.10_qbz5n2kfra8p0\\localcache\\local-packages\\python310\\site-packages (from opentelemetry-instrumentation-fastapi>=0.41b0->chromadb) (0.43b0)\n",
      "Requirement already satisfied: opentelemetry-instrumentation==0.43b0 in c:\\users\\dell\\appdata\\local\\packages\\pythonsoftwarefoundation.python.3.10_qbz5n2kfra8p0\\localcache\\local-packages\\python310\\site-packages (from opentelemetry-instrumentation-fastapi>=0.41b0->chromadb) (0.43b0)\n",
      "Requirement already satisfied: opentelemetry-semantic-conventions==0.43b0 in c:\\users\\dell\\appdata\\local\\packages\\pythonsoftwarefoundation.python.3.10_qbz5n2kfra8p0\\localcache\\local-packages\\python310\\site-packages (from opentelemetry-instrumentation-fastapi>=0.41b0->chromadb) (0.43b0)\n",
      "Requirement already satisfied: opentelemetry-util-http==0.43b0 in c:\\users\\dell\\appdata\\local\\packages\\pythonsoftwarefoundation.python.3.10_qbz5n2kfra8p0\\localcache\\local-packages\\python310\\site-packages (from opentelemetry-instrumentation-fastapi>=0.41b0->chromadb) (0.43b0)\n",
      "Requirement already satisfied: setuptools>=16.0 in c:\\users\\dell\\appdata\\local\\packages\\pythonsoftwarefoundation.python.3.10_qbz5n2kfra8p0\\localcache\\local-packages\\python310\\site-packages (from opentelemetry-instrumentation==0.43b0->opentelemetry-instrumentation-fastapi>=0.41b0->chromadb) (67.8.0)\n",
      "Requirement already satisfied: wrapt<2.0.0,>=1.0.0 in c:\\users\\dell\\appdata\\local\\packages\\pythonsoftwarefoundation.python.3.10_qbz5n2kfra8p0\\localcache\\local-packages\\python310\\site-packages (from opentelemetry-instrumentation==0.43b0->opentelemetry-instrumentation-fastapi>=0.41b0->chromadb) (1.16.0)\n",
      "Requirement already satisfied: asgiref~=3.0 in c:\\users\\dell\\appdata\\local\\packages\\pythonsoftwarefoundation.python.3.10_qbz5n2kfra8p0\\localcache\\local-packages\\python310\\site-packages (from opentelemetry-instrumentation-asgi==0.43b0->opentelemetry-instrumentation-fastapi>=0.41b0->chromadb) (3.7.2)\n",
      "Requirement already satisfied: monotonic>=1.5 in c:\\users\\dell\\appdata\\local\\packages\\pythonsoftwarefoundation.python.3.10_qbz5n2kfra8p0\\localcache\\local-packages\\python310\\site-packages (from posthog>=2.4.0->chromadb) (1.6)\n",
      "Requirement already satisfied: annotated-types>=0.4.0 in c:\\users\\dell\\appdata\\local\\packages\\pythonsoftwarefoundation.python.3.10_qbz5n2kfra8p0\\localcache\\local-packages\\python310\\site-packages (from pydantic>=1.9->chromadb) (0.6.0)\n",
      "Requirement already satisfied: pydantic-core==2.16.1 in c:\\users\\dell\\appdata\\local\\packages\\pythonsoftwarefoundation.python.3.10_qbz5n2kfra8p0\\localcache\\local-packages\\python310\\site-packages (from pydantic>=1.9->chromadb) (2.16.1)\n",
      "Requirement already satisfied: charset-normalizer<4,>=2 in c:\\users\\dell\\appdata\\local\\packages\\pythonsoftwarefoundation.python.3.10_qbz5n2kfra8p0\\localcache\\local-packages\\python310\\site-packages (from requests>=2.20->openai) (3.1.0)\n",
      "Requirement already satisfied: idna<4,>=2.5 in c:\\users\\dell\\appdata\\local\\packages\\pythonsoftwarefoundation.python.3.10_qbz5n2kfra8p0\\localcache\\local-packages\\python310\\site-packages (from requests>=2.20->openai) (3.4)\n",
      "Requirement already satisfied: huggingface_hub<1.0,>=0.16.4 in c:\\users\\dell\\appdata\\local\\packages\\pythonsoftwarefoundation.python.3.10_qbz5n2kfra8p0\\localcache\\local-packages\\python310\\site-packages (from tokenizers>=0.13.2->chromadb) (0.20.3)\n",
      "Requirement already satisfied: click<9.0.0,>=7.1.1 in c:\\users\\dell\\appdata\\local\\packages\\pythonsoftwarefoundation.python.3.10_qbz5n2kfra8p0\\localcache\\local-packages\\python310\\site-packages (from typer>=0.9.0->chromadb) (8.1.7)\n",
      "Requirement already satisfied: h11>=0.8 in c:\\users\\dell\\appdata\\local\\packages\\pythonsoftwarefoundation.python.3.10_qbz5n2kfra8p0\\localcache\\local-packages\\python310\\site-packages (from uvicorn>=0.18.3->uvicorn[standard]>=0.18.3->chromadb) (0.14.0)\n",
      "Requirement already satisfied: httptools>=0.5.0 in c:\\users\\dell\\appdata\\local\\packages\\pythonsoftwarefoundation.python.3.10_qbz5n2kfra8p0\\localcache\\local-packages\\python310\\site-packages (from uvicorn[standard]>=0.18.3->chromadb) (0.6.1)\n",
      "Requirement already satisfied: python-dotenv>=0.13 in c:\\users\\dell\\appdata\\local\\packages\\pythonsoftwarefoundation.python.3.10_qbz5n2kfra8p0\\localcache\\local-packages\\python310\\site-packages (from uvicorn[standard]>=0.18.3->chromadb) (1.0.1)\n",
      "Requirement already satisfied: watchfiles>=0.13 in c:\\users\\dell\\appdata\\local\\packages\\pythonsoftwarefoundation.python.3.10_qbz5n2kfra8p0\\localcache\\local-packages\\python310\\site-packages (from uvicorn[standard]>=0.18.3->chromadb) (0.21.0)\n",
      "Requirement already satisfied: websockets>=10.4 in c:\\users\\dell\\appdata\\local\\packages\\pythonsoftwarefoundation.python.3.10_qbz5n2kfra8p0\\localcache\\local-packages\\python310\\site-packages (from uvicorn[standard]>=0.18.3->chromadb) (11.0.3)\n",
      "Requirement already satisfied: attrs>=17.3.0 in c:\\users\\dell\\appdata\\local\\packages\\pythonsoftwarefoundation.python.3.10_qbz5n2kfra8p0\\localcache\\local-packages\\python310\\site-packages (from aiohttp->openai) (23.1.0)\n",
      "Requirement already satisfied: multidict<7.0,>=4.5 in c:\\users\\dell\\appdata\\local\\packages\\pythonsoftwarefoundation.python.3.10_qbz5n2kfra8p0\\localcache\\local-packages\\python310\\site-packages (from aiohttp->openai) (6.0.4)\n",
      "Requirement already satisfied: async-timeout<5.0,>=4.0.0a3 in c:\\users\\dell\\appdata\\local\\packages\\pythonsoftwarefoundation.python.3.10_qbz5n2kfra8p0\\localcache\\local-packages\\python310\\site-packages (from aiohttp->openai) (4.0.3)\n",
      "Requirement already satisfied: yarl<2.0,>=1.0 in c:\\users\\dell\\appdata\\local\\packages\\pythonsoftwarefoundation.python.3.10_qbz5n2kfra8p0\\localcache\\local-packages\\python310\\site-packages (from aiohttp->openai) (1.9.2)\n",
      "Requirement already satisfied: frozenlist>=1.1.1 in c:\\users\\dell\\appdata\\local\\packages\\pythonsoftwarefoundation.python.3.10_qbz5n2kfra8p0\\localcache\\local-packages\\python310\\site-packages (from aiohttp->openai) (1.4.0)\n",
      "Requirement already satisfied: aiosignal>=1.1.2 in c:\\users\\dell\\appdata\\local\\packages\\pythonsoftwarefoundation.python.3.10_qbz5n2kfra8p0\\localcache\\local-packages\\python310\\site-packages (from aiohttp->openai) (1.3.1)\n",
      "Requirement already satisfied: cachetools<6.0,>=2.0.0 in c:\\users\\dell\\appdata\\local\\packages\\pythonsoftwarefoundation.python.3.10_qbz5n2kfra8p0\\localcache\\local-packages\\python310\\site-packages (from google-auth>=1.0.1->kubernetes>=28.1.0->chromadb) (5.3.2)\n",
      "Requirement already satisfied: pyasn1-modules>=0.2.1 in c:\\users\\dell\\appdata\\local\\packages\\pythonsoftwarefoundation.python.3.10_qbz5n2kfra8p0\\localcache\\local-packages\\python310\\site-packages (from google-auth>=1.0.1->kubernetes>=28.1.0->chromadb) (0.3.0)\n",
      "Requirement already satisfied: rsa<5,>=3.1.4 in c:\\users\\dell\\appdata\\local\\packages\\pythonsoftwarefoundation.python.3.10_qbz5n2kfra8p0\\localcache\\local-packages\\python310\\site-packages (from google-auth>=1.0.1->kubernetes>=28.1.0->chromadb) (4.9)\n",
      "Requirement already satisfied: filelock in c:\\users\\dell\\appdata\\local\\packages\\pythonsoftwarefoundation.python.3.10_qbz5n2kfra8p0\\localcache\\local-packages\\python310\\site-packages (from huggingface_hub<1.0,>=0.16.4->tokenizers>=0.13.2->chromadb) (3.12.3)\n",
      "Requirement already satisfied: fsspec>=2023.5.0 in c:\\users\\dell\\appdata\\local\\packages\\pythonsoftwarefoundation.python.3.10_qbz5n2kfra8p0\\localcache\\local-packages\\python310\\site-packages (from huggingface_hub<1.0,>=0.16.4->tokenizers>=0.13.2->chromadb) (2023.6.0)\n",
      "Requirement already satisfied: zipp>=0.5 in c:\\users\\dell\\appdata\\local\\packages\\pythonsoftwarefoundation.python.3.10_qbz5n2kfra8p0\\localcache\\local-packages\\python310\\site-packages (from importlib-metadata<7.0,>=6.0->opentelemetry-api>=1.2.0->chromadb) (3.17.0)\n",
      "Requirement already satisfied: anyio<5,>=3.4.0 in c:\\users\\dell\\appdata\\local\\packages\\pythonsoftwarefoundation.python.3.10_qbz5n2kfra8p0\\localcache\\local-packages\\python310\\site-packages (from starlette<0.37.0,>=0.36.3->fastapi>=0.95.2->chromadb) (3.7.1)\n",
      "Requirement already satisfied: humanfriendly>=9.1 in c:\\users\\dell\\appdata\\local\\packages\\pythonsoftwarefoundation.python.3.10_qbz5n2kfra8p0\\localcache\\local-packages\\python310\\site-packages (from coloredlogs->onnxruntime>=1.14.1->chromadb) (10.0)\n",
      "Requirement already satisfied: mpmath>=0.19 in c:\\users\\dell\\appdata\\local\\packages\\pythonsoftwarefoundation.python.3.10_qbz5n2kfra8p0\\localcache\\local-packages\\python310\\site-packages (from sympy->onnxruntime>=1.14.1->chromadb) (1.3.0)\n",
      "Requirement already satisfied: sniffio>=1.1 in c:\\users\\dell\\appdata\\local\\packages\\pythonsoftwarefoundation.python.3.10_qbz5n2kfra8p0\\localcache\\local-packages\\python310\\site-packages (from anyio<5,>=3.4.0->starlette<0.37.0,>=0.36.3->fastapi>=0.95.2->chromadb) (1.3.0)\n",
      "Requirement already satisfied: exceptiongroup in c:\\users\\dell\\appdata\\local\\packages\\pythonsoftwarefoundation.python.3.10_qbz5n2kfra8p0\\localcache\\local-packages\\python310\\site-packages (from anyio<5,>=3.4.0->starlette<0.37.0,>=0.36.3->fastapi>=0.95.2->chromadb) (1.2.0)\n",
      "Requirement already satisfied: pyreadline3 in c:\\users\\dell\\appdata\\local\\packages\\pythonsoftwarefoundation.python.3.10_qbz5n2kfra8p0\\localcache\\local-packages\\python310\\site-packages (from humanfriendly>=9.1->coloredlogs->onnxruntime>=1.14.1->chromadb) (3.4.1)\n",
      "Requirement already satisfied: pyasn1<0.6.0,>=0.4.6 in c:\\users\\dell\\appdata\\local\\packages\\pythonsoftwarefoundation.python.3.10_qbz5n2kfra8p0\\localcache\\local-packages\\python310\\site-packages (from pyasn1-modules>=0.2.1->google-auth>=1.0.1->kubernetes>=28.1.0->chromadb) (0.5.1)\n",
      "Note: you may need to restart the kernel to use updated packages.\n"
     ]
    }
   ],
   "source": [
    "pip install openai chromadb  "
   ]
  },
  {
   "cell_type": "code",
   "execution_count": 69,
   "metadata": {},
   "outputs": [
    {
     "name": "stdout",
     "output_type": "stream",
     "text": [
      "Chunk 1: \n",
      "\n",
      "\n",
      "3-Bureau Credit Report & Scores | SmartCredit\n",
      "\n",
      "...\n",
      "Chunk 2: TICE, IL 604588745 ROBERTSHICKORY HILLS, IL 604578...\n",
      "Chunk 3: d account/zero balanceAccounts closed by credit gr...\n",
      "Chunk 4: :Account Rating:Account Description:Dispute Status...\n",
      "Chunk 5: t legally paid in full for less than the full bala...\n",
      "Chunk 6: tOKOctOKNovOKDecOK'2022OKFebMarequifaxJulAugSeptOc...\n",
      "Chunk 7: $009/12/2020PaidIndividualAccount not disputedBank...\n",
      "Chunk 8:  balanceAccounts closed by credit grantor$001/11/2...\n",
      "Chunk 9: t Description:Dispute Status:Creditor Type:Account...\n",
      "Chunk 10: te - 7 Year Historytransunion®30: --60: --90: --ex...\n",
      "Chunk 11: 2/01/2021ClosedJointAccount not disputedCredit Uni...\n",
      "Chunk 12: eportedInquiriesCreditor NameDate of InquiryCredit...\n",
      "Chunk 13: S, MN 554028662344750US BANKCB DISPUTES PO BOX 108...\n"
     ]
    }
   ],
   "source": [
    "from bs4 import BeautifulSoup\n",
    "\n",
    "# Function to read and parse HTML\n",
    "def read_html(file_path):\n",
    "    encodings = ['utf-8', 'iso-8859-1', 'windows-1252']  # Try common web encodings\n",
    "    for encoding in encodings:\n",
    "        try:\n",
    "            with open(file_path, 'r', encoding=encoding) as file:\n",
    "                html_content = file.read()\n",
    "            soup = BeautifulSoup(html_content, 'html.parser')\n",
    "            return soup.get_text()\n",
    "        except UnicodeDecodeError:\n",
    "            continue\n",
    "    raise ValueError(\"Failed to decode HTML file with the tried encodings.\")\n",
    "\n",
    "# Function to chunk text into chunks of 1000 characters\n",
    "def chunk_text(text, chunk_size=2000):\n",
    "    return [text[i:i + chunk_size] for i in range(0, len(text), chunk_size)]\n",
    "\n",
    "# Example usage\n",
    "file_path = r'C:\\Users\\DELL\\Desktop\\html_to_vectordatabase\\3-Bureau Credit Report & Scores _ SmartCredit--3.html'\n",
    "try:\n",
    "    text = read_html(file_path)\n",
    "    text_chunks = chunk_text(text)  # Storing chunks in a list\n",
    "\n",
    "    # Example: Printing each chunk to demonstrate output\n",
    "    for index, chunk in enumerate(text_chunks):\n",
    "        print(f\"Chunk {index+1}: {chunk[:50]}...\")  # Displaying first 50 characters of each chunk\n",
    "except ValueError as e:\n",
    "    print(e)\n"
   ]
  },
  {
   "cell_type": "code",
   "execution_count": 70,
   "metadata": {},
   "outputs": [
    {
     "data": {
      "text/plain": [
       "13"
      ]
     },
     "execution_count": 70,
     "metadata": {},
     "output_type": "execute_result"
    }
   ],
   "source": [
    "len(text_chunks)"
   ]
  },
  {
   "cell_type": "code",
   "execution_count": 71,
   "metadata": {},
   "outputs": [
    {
     "data": {
      "text/plain": [
       "13"
      ]
     },
     "execution_count": 71,
     "metadata": {},
     "output_type": "execute_result"
    }
   ],
   "source": [
    "text_list=text_chunks\n",
    "len(text_list)"
   ]
  },
  {
   "cell_type": "code",
   "execution_count": 72,
   "metadata": {},
   "outputs": [
    {
     "data": {
      "text/plain": [
       "\"tOKOctOKNovOKDecOK'2022OKFebMarequifaxJulAugSeptOctNovNovDec'2021FebAprMayJunJulAugSeptOctNovNovDec'2022FebAprMayJunDays Late - 7 Year Historytransunion®30: 060: 090: 0experian®30: 060: 090: 0equifax®30: 060: 090: 0US BANKAccount #High Balance:Last Verified:Date of Last Activity:Date Reported:Date Opened:Balance Owed:Closed Date:Account Rating:Account Description:Dispute Status:Creditor Type:Account Status:Payment Status:Creditor Remarks:Payment Amount:Last Payment:Term Length:Past Due Amount:Account Type:Payment Frequency:Credit Limit:transunion®414778******$4931/08/201701/08/201731/08/201701/08/2016$001/08/2017ClosedIndividualAccount not disputedBank Credit CardsClosedCurrentAccount closed by consumer$0----$0Flexible spending credit card--$1,000experian®414778**********$49--01/08/201731/08/201701/08/2016$0--PaidIndividualAccount not disputedAll BanksClosedCurrentCredit line closed - consumer request - reported by subscriber.$0----$0Credit Card--$1,000equifax®414778******$1,000----01/08/201701/08/2016$0--PaidIndividualAccount not disputedNational Credit Card CompaniesClosedCurrentAccount closed at consumer's requestClosed or paid account/zero balance$0----$0--$0Two-Year Payment HistorytransunionAugSeptOctNovDec'2016FebMarAprMayJunJulOKAugOKSeptOKOctOKNovOKDecOK'2017OKFebOKMarOKAprOKMayOKJunOKJulexperianSeptOctNovDec'2016FebMarAprMayJunJulAugOKSeptOKOctOKNovOKDecOK'2017OKFebOKMarOKAprOKMayOKJunOKJulAugequifaxAugSeptOctNovNovDec'2016FebAprMayJunJulAugSeptOctNovNovDec'2017FebAprMayJunJulDays Late - 7 Year Historytransunion®30: 060: 090: 0experian®30: 060: 090: 0equifax®30: 060: 090: 0CITIAccount #High Balance:Last Verified:Date of Last Activity:Date Reported:Date Opened:Balance Owed:Closed Date:Account Rating:Account Description:Dispute Status:Creditor Type:Account Status:Payment Status:Creditor Remarks:Payment Amount:Last Payment:Term Length:Past Due Amount:Account Type:Payment Frequency:Credit Limit:transunion®542418******$79624/05/202109/12/202024/05/202109/12/2016\""
      ]
     },
     "execution_count": 72,
     "metadata": {},
     "output_type": "execute_result"
    }
   ],
   "source": [
    "text_chunks[5]"
   ]
  },
  {
   "cell_type": "code",
   "execution_count": 73,
   "metadata": {},
   "outputs": [
    {
     "name": "stdout",
     "output_type": "stream",
     "text": [
      "[1, 2, 3, 4, 5, 6, 7, 8, 9, 10, 11, 12, 13]\n"
     ]
    }
   ],
   "source": [
    "page_ids=list(range(1,14))\n",
    "print(page_ids)"
   ]
  },
  {
   "cell_type": "markdown",
   "metadata": {},
   "source": [
    "Note : embedding model >>> sting"
   ]
  },
  {
   "cell_type": "code",
   "execution_count": 74,
   "metadata": {},
   "outputs": [
    {
     "name": "stdout",
     "output_type": "stream",
     "text": [
      "['1', '2', '3', '4', '5', '6', '7', '8', '9', '10', '11', '12', '13']\n"
     ]
    }
   ],
   "source": [
    "page_ids=[str(i) for i in page_ids]\n",
    "print(page_ids)"
   ]
  },
  {
   "cell_type": "code",
   "execution_count": 75,
   "metadata": {},
   "outputs": [],
   "source": [
    "import chromadb\n",
    "\n",
    "import chromadb.utils.embedding_functions as embedding_functions\n",
    "\n",
    "openai_ef = embedding_functions.OpenAIEmbeddingFunction(api_key=\"sk-proj-vtteF5xxxxxxxxxxxxxxxxxxxxxxxxxxxxxxxxxxxxx07VvwaXRvv8UuMgTTDe5l-l2anHxDAdGKPowNxxxxxxxxxxxxxxxxxxxxxxx\",model_name = \"text-embedding-ada-002\")\n"
   ]
  },
  {
   "cell_type": "code",
   "execution_count": 76,
   "metadata": {},
   "outputs": [],
   "source": [
    "client = chromadb.PersistentClient(path=\"vectordata\")"
   ]
  },
  {
   "cell_type": "code",
   "execution_count": 77,
   "metadata": {},
   "outputs": [],
   "source": [
    "index_1 = client.get_or_create_collection(name=\"index_1\",embedding_function=openai_ef)"
   ]
  },
  {
   "cell_type": "code",
   "execution_count": 78,
   "metadata": {},
   "outputs": [
    {
     "data": {
      "text/plain": [
       "0"
      ]
     },
     "execution_count": 78,
     "metadata": {},
     "output_type": "execute_result"
    }
   ],
   "source": [
    "index_1.count()"
   ]
  },
  {
   "cell_type": "code",
   "execution_count": 79,
   "metadata": {},
   "outputs": [],
   "source": [
    "index_1.add(\n",
    "    documents=text_list,\n",
    "    ids=page_ids\n",
    ")"
   ]
  },
  {
   "cell_type": "code",
   "execution_count": 80,
   "metadata": {},
   "outputs": [
    {
     "data": {
      "text/plain": [
       "13"
      ]
     },
     "execution_count": 80,
     "metadata": {},
     "output_type": "execute_result"
    }
   ],
   "source": [
    "index_1.count()"
   ]
  },
  {
   "cell_type": "code",
   "execution_count": 81,
   "metadata": {},
   "outputs": [],
   "source": [
    "user_input= \" what steps can be taken to address negative entries\"\n",
    "\n",
    "result = index_1.query(\n",
    "    query_texts=[user_input],\n",
    "    n_results=3\n",
    ")"
   ]
  },
  {
   "cell_type": "code",
   "execution_count": 82,
   "metadata": {},
   "outputs": [
    {
     "data": {
      "text/plain": [
       "{'ids': [['3', '11', '4']],\n",
       " 'distances': [[0.5344856783977959, 0.5413083315325455, 0.5579190856433652]],\n",
       " 'metadatas': [[None, None, None]],\n",
       " 'embeddings': None,\n",
       " 'documents': [[\"d account/zero balanceAccounts closed by credit grantor$001/03/2022--$0--$0Two-Year Payment HistorytransunionOKAugOKSeptOKOctOKNovOKDecOK'2022OKFebOKMarOKAprOKMayOKJunOKJulOKAugOKSeptOKOctOKNovOKDecOK'2023OKFebOKMarOKAprOKMayOKJunOKJulexperianOKJunOKJulOKAugOKSeptOKOctOKNovOKDecOK'2022OKFebOKMarOKAprOKMayOKJunOKJulOKAugOKSeptOKOctOKNovOKDecOK'2023OKFebOKMarOKAprMayequifaxAugSeptOctNovNovDec'2022FebAprMayJunJulAugSeptOctNovNovDec'2023FebAprMayJunJulDays Late - 7 Year Historytransunion®30: 060: 090: 0experian®30: 060: 090: 0equifax®30: 060: 090: 0CBNAAccount #High Balance:Last Verified:Date of Last Activity:Date Reported:Date Opened:Balance Owed:Closed Date:Account Rating:Account Description:Dispute Status:Creditor Type:Account Status:Payment Status:Creditor Remarks:Payment Amount:Last Payment:Term Length:Past Due Amount:Account Type:Payment Frequency:Credit Limit:transunion®426938**********$98119/10/202319/10/202319/10/202309/11/2021$174--OpenIndividualAccount not disputedCommercial BanksOpenCurrent--$2916/08/2023--$0Credit Card--$2,000experian®426938**********$981--01/10/202320/10/202301/11/2021$174--OpenIndividualAccount not disputedAll BanksOpenCurrent--$2916/08/2023--$0Credit Card--$2,000equifax®426938**********$0--01/10/202301/10/202301/11/2021$174--OpenIndividualAccount not disputedAll BanksOpenCurrentCredit  cardAmount in H/C column is credit limit$2901/10/2023--$0Credit Card--$2,000Two-Year Payment HistorytransunionOctOKNovOKDecOK'2022OKFebOKMarOKAprOKMayOKJunOKJulOKAugOKSeptOKOctOKNovOKDecOK'2023OKFebOKMarOKAprOKMayOKJunOKJulOKAugOKSeptexperianOKNovOKDecOK'2022OKFebOKMarOKAprOKMayOKJunOKJulOKAugOKSeptOKOctOKNovOKDecOK'2023OKFebOKMarOKAprOKMayOKJunOKJulOKAugOKSeptOKOctequifaxOctNovNovDec'2022FebAprMayJunJulAugSeptOctNovNovDec'2023FebAprMayJunJulAugSeptDays Late - 7 Year Historytransunion®30: 060: 090: 0experian®30: 060: 090: 0equifax®30: 060: 090: 0CITIAccount #High Balance:Last Verified:Date of Last Activity:Date Reported:Date Opened:Balance Owed:Closed Date\",\n",
       "   \"2/01/2021ClosedJointAccount not disputedCredit UnionsClosedCurrentClosed$022/01/202136 Month(s) $0Auto LoanMonthly (every month)$0experian®721515****$5,716--01/01/202131/01/202101/03/2018$0--PaidJointAccount not disputedCredit UnionsClosedCurrent--$022/01/202136 Month(s) $0Auto Loan--$0equifax®721515****$5,716--01/01/202101/01/202101/03/2018$0--PaidJointAccount not disputedCredit UnionsClosedCurrentClosed or paid account/zero balanceAuto$001/01/202136 Month(s) $0Auto Loan--$0Two-Year Payment HistorytransunionOK'2019OKFebOKMarOKAprOKMayOKJunOKJulOKAugOKSeptOKOctOKNovOKDecOK'2020OKFebOKMarOKAprOKMayOKJunOKJulOKAugOKSeptOKOctOKNovOKDecexperianOKFebOKMarOKAprOKMayOKJunOKJulOKAugOKSeptOKOctOKNovOKDecOK'2020OKFebOKMarOKAprOKMayOKJunOKJulOKAugOKSeptOKOctOKNovOKDec'2021equifax'2019FebMarAprMayJunJulAugSeptOctNovDec'2020FebMarAprMayJunJulAugSeptOctNovDecDays Late - 7 Year Historytransunion®30: 060: 090: 0experian®30: 060: 090: 0equifax®30: 060: 090: 0CollectionMRSBPOAccount #High Balance:Last Verified:Date of Last Activity:Date Reported:Date Opened:Balance Owed:Closed Date:Account Rating:Account Description:Dispute Status:Creditor Type:Account Status:Payment Status:Creditor Remarks:Original CreditorLast Payment:Past Due Amount:Account Type:transunion®LU8XX8*****$11820/03/202022/02/202020/03/202021/11/2019$0--DerogatoryIndividualAccount not disputedOther Collection AgenciesClosedCollection/ChargeoffPaid collection11 ATT U VERSE------experian®LU8XX8*****$118--01/02/202022/02/202001/11/2019$0--PaidIndividualAccount not disputedOther Collection AgenciesClosedCollection/Chargeoff--ATT U-VERSE------equifax®LU8XX8*****$118--01/03/202001/03/202001/11/2019$0--PaidIndividualAccount not disputedOther Collection AgenciesClosedCollection/Chargeoff--ATT U VERSE------Two-Year Payment Historytransunion NONE REPORTED experian NONE REPORTED equifax NONE REPORTED Days Late - 7 Year Historytransunion®30: --60: --90: --experian®30: --60: --90: --equifax®30: --60: --90: --Public InformationNone R\",\n",
       "   \":Account Rating:Account Description:Dispute Status:Creditor Type:Account Status:Payment Status:Creditor Remarks:Payment Amount:Last Payment:Term Length:Past Due Amount:Account Type:Payment Frequency:Credit Limit:transunion®410039******$1,80809/10/202309/10/202309/10/202311/11/2021$152--OpenIndividualAccount not disputedCommercial BanksOpenCurrent--$3503/10/2023--$0Credit Card--$520experian®410039**********$1,808--01/10/202309/10/202301/11/2021$152--OpenIndividualAccount not disputedAll BanksOpenCurrent--$3503/10/2023--$0Credit Card--$520equifax®410039**********$0--01/10/202301/10/202301/11/2021$152--OpenIndividualAccount not disputedAll BanksOpenCurrentCredit  cardAmount in H/C column is credit limit$3501/10/2023--$0Credit Card--$520Two-Year Payment HistorytransunionOctNovOKDecOK'2022OKFebOKMarOKAprOKMayOKJunOKJulOKAugOKSeptOKOctOKNovOKDecOK'2023OKFebOKMarOKAprOKMayOKJunOKJulOKAugOKSeptexperianNovOKDecOK'2022OKFebOKMarOKAprOKMayOKJunOKJulOKAugOKSeptOKOctOKNovOKDecOK'2023OKFebOKMarOKAprOKMayOKJunOKJulOKAugOKSeptOKOctequifaxOctNovNovDec'2022FebAprMayJunJulAugSeptOctNovNovDec'2023FebAprMayJunJulAugSeptDays Late - 7 Year Historytransunion®30: 060: 090: 0experian®30: 060: 090: 0equifax®30: 060: 090: 0TDRC/SAMS AGAccount #High Balance:Last Verified:Date of Last Activity:Date Reported:Date Opened:Balance Owed:Closed Date:Account Rating:Account Description:Dispute Status:Creditor Type:Account Status:Payment Status:Creditor Remarks:Payment Amount:Last Payment:Term Length:Past Due Amount:Account Type:Payment Frequency:Credit Limit:transunion®600610**********$1,33230/11/202202/11/202230/11/202214/11/2021$002/11/2022PaidIndividualAccount not disputedHome Electronics Sales and ServiceClosedCurrentSettled - less than full balance$002/11/2022--$0Charge account--$1,014experian®600610**********$1,332--01/11/202202/11/202201/11/2021$0--PaidIndividualAccount not disputedRetail, Not Elsewhere ClassifiedClosedLate 60 DaysAccount legally paid in full for lass than the full balance.Accoun\"]],\n",
       " 'uris': None,\n",
       " 'data': None}"
      ]
     },
     "execution_count": 82,
     "metadata": {},
     "output_type": "execute_result"
    }
   ],
   "source": [
    "result"
   ]
  },
  {
   "cell_type": "code",
   "execution_count": 83,
   "metadata": {},
   "outputs": [
    {
     "data": {
      "text/plain": [
       "[\"d account/zero balanceAccounts closed by credit grantor$001/03/2022--$0--$0Two-Year Payment HistorytransunionOKAugOKSeptOKOctOKNovOKDecOK'2022OKFebOKMarOKAprOKMayOKJunOKJulOKAugOKSeptOKOctOKNovOKDecOK'2023OKFebOKMarOKAprOKMayOKJunOKJulexperianOKJunOKJulOKAugOKSeptOKOctOKNovOKDecOK'2022OKFebOKMarOKAprOKMayOKJunOKJulOKAugOKSeptOKOctOKNovOKDecOK'2023OKFebOKMarOKAprMayequifaxAugSeptOctNovNovDec'2022FebAprMayJunJulAugSeptOctNovNovDec'2023FebAprMayJunJulDays Late - 7 Year Historytransunion®30: 060: 090: 0experian®30: 060: 090: 0equifax®30: 060: 090: 0CBNAAccount #High Balance:Last Verified:Date of Last Activity:Date Reported:Date Opened:Balance Owed:Closed Date:Account Rating:Account Description:Dispute Status:Creditor Type:Account Status:Payment Status:Creditor Remarks:Payment Amount:Last Payment:Term Length:Past Due Amount:Account Type:Payment Frequency:Credit Limit:transunion®426938**********$98119/10/202319/10/202319/10/202309/11/2021$174--OpenIndividualAccount not disputedCommercial BanksOpenCurrent--$2916/08/2023--$0Credit Card--$2,000experian®426938**********$981--01/10/202320/10/202301/11/2021$174--OpenIndividualAccount not disputedAll BanksOpenCurrent--$2916/08/2023--$0Credit Card--$2,000equifax®426938**********$0--01/10/202301/10/202301/11/2021$174--OpenIndividualAccount not disputedAll BanksOpenCurrentCredit  cardAmount in H/C column is credit limit$2901/10/2023--$0Credit Card--$2,000Two-Year Payment HistorytransunionOctOKNovOKDecOK'2022OKFebOKMarOKAprOKMayOKJunOKJulOKAugOKSeptOKOctOKNovOKDecOK'2023OKFebOKMarOKAprOKMayOKJunOKJulOKAugOKSeptexperianOKNovOKDecOK'2022OKFebOKMarOKAprOKMayOKJunOKJulOKAugOKSeptOKOctOKNovOKDecOK'2023OKFebOKMarOKAprOKMayOKJunOKJulOKAugOKSeptOKOctequifaxOctNovNovDec'2022FebAprMayJunJulAugSeptOctNovNovDec'2023FebAprMayJunJulAugSeptDays Late - 7 Year Historytransunion®30: 060: 090: 0experian®30: 060: 090: 0equifax®30: 060: 090: 0CITIAccount #High Balance:Last Verified:Date of Last Activity:Date Reported:Date Opened:Balance Owed:Closed Date\",\n",
       " \"2/01/2021ClosedJointAccount not disputedCredit UnionsClosedCurrentClosed$022/01/202136 Month(s) $0Auto LoanMonthly (every month)$0experian®721515****$5,716--01/01/202131/01/202101/03/2018$0--PaidJointAccount not disputedCredit UnionsClosedCurrent--$022/01/202136 Month(s) $0Auto Loan--$0equifax®721515****$5,716--01/01/202101/01/202101/03/2018$0--PaidJointAccount not disputedCredit UnionsClosedCurrentClosed or paid account/zero balanceAuto$001/01/202136 Month(s) $0Auto Loan--$0Two-Year Payment HistorytransunionOK'2019OKFebOKMarOKAprOKMayOKJunOKJulOKAugOKSeptOKOctOKNovOKDecOK'2020OKFebOKMarOKAprOKMayOKJunOKJulOKAugOKSeptOKOctOKNovOKDecexperianOKFebOKMarOKAprOKMayOKJunOKJulOKAugOKSeptOKOctOKNovOKDecOK'2020OKFebOKMarOKAprOKMayOKJunOKJulOKAugOKSeptOKOctOKNovOKDec'2021equifax'2019FebMarAprMayJunJulAugSeptOctNovDec'2020FebMarAprMayJunJulAugSeptOctNovDecDays Late - 7 Year Historytransunion®30: 060: 090: 0experian®30: 060: 090: 0equifax®30: 060: 090: 0CollectionMRSBPOAccount #High Balance:Last Verified:Date of Last Activity:Date Reported:Date Opened:Balance Owed:Closed Date:Account Rating:Account Description:Dispute Status:Creditor Type:Account Status:Payment Status:Creditor Remarks:Original CreditorLast Payment:Past Due Amount:Account Type:transunion®LU8XX8*****$11820/03/202022/02/202020/03/202021/11/2019$0--DerogatoryIndividualAccount not disputedOther Collection AgenciesClosedCollection/ChargeoffPaid collection11 ATT U VERSE------experian®LU8XX8*****$118--01/02/202022/02/202001/11/2019$0--PaidIndividualAccount not disputedOther Collection AgenciesClosedCollection/Chargeoff--ATT U-VERSE------equifax®LU8XX8*****$118--01/03/202001/03/202001/11/2019$0--PaidIndividualAccount not disputedOther Collection AgenciesClosedCollection/Chargeoff--ATT U VERSE------Two-Year Payment Historytransunion NONE REPORTED experian NONE REPORTED equifax NONE REPORTED Days Late - 7 Year Historytransunion®30: --60: --90: --experian®30: --60: --90: --equifax®30: --60: --90: --Public InformationNone R\",\n",
       " \":Account Rating:Account Description:Dispute Status:Creditor Type:Account Status:Payment Status:Creditor Remarks:Payment Amount:Last Payment:Term Length:Past Due Amount:Account Type:Payment Frequency:Credit Limit:transunion®410039******$1,80809/10/202309/10/202309/10/202311/11/2021$152--OpenIndividualAccount not disputedCommercial BanksOpenCurrent--$3503/10/2023--$0Credit Card--$520experian®410039**********$1,808--01/10/202309/10/202301/11/2021$152--OpenIndividualAccount not disputedAll BanksOpenCurrent--$3503/10/2023--$0Credit Card--$520equifax®410039**********$0--01/10/202301/10/202301/11/2021$152--OpenIndividualAccount not disputedAll BanksOpenCurrentCredit  cardAmount in H/C column is credit limit$3501/10/2023--$0Credit Card--$520Two-Year Payment HistorytransunionOctNovOKDecOK'2022OKFebOKMarOKAprOKMayOKJunOKJulOKAugOKSeptOKOctOKNovOKDecOK'2023OKFebOKMarOKAprOKMayOKJunOKJulOKAugOKSeptexperianNovOKDecOK'2022OKFebOKMarOKAprOKMayOKJunOKJulOKAugOKSeptOKOctOKNovOKDecOK'2023OKFebOKMarOKAprOKMayOKJunOKJulOKAugOKSeptOKOctequifaxOctNovNovDec'2022FebAprMayJunJulAugSeptOctNovNovDec'2023FebAprMayJunJulAugSeptDays Late - 7 Year Historytransunion®30: 060: 090: 0experian®30: 060: 090: 0equifax®30: 060: 090: 0TDRC/SAMS AGAccount #High Balance:Last Verified:Date of Last Activity:Date Reported:Date Opened:Balance Owed:Closed Date:Account Rating:Account Description:Dispute Status:Creditor Type:Account Status:Payment Status:Creditor Remarks:Payment Amount:Last Payment:Term Length:Past Due Amount:Account Type:Payment Frequency:Credit Limit:transunion®600610**********$1,33230/11/202202/11/202230/11/202214/11/2021$002/11/2022PaidIndividualAccount not disputedHome Electronics Sales and ServiceClosedCurrentSettled - less than full balance$002/11/2022--$0Charge account--$1,014experian®600610**********$1,332--01/11/202202/11/202201/11/2021$0--PaidIndividualAccount not disputedRetail, Not Elsewhere ClassifiedClosedLate 60 DaysAccount legally paid in full for lass than the full balance.Accoun\"]"
      ]
     },
     "execution_count": 83,
     "metadata": {},
     "output_type": "execute_result"
    }
   ],
   "source": [
    "context=result[\"documents\"]\n",
    "context=context[0]\n",
    "context"
   ]
  },
  {
   "cell_type": "markdown",
   "metadata": {},
   "source": [
    "To increse accuracy :\n",
    "1.Reranker model\n",
    "2. Query expansion"
   ]
  },
  {
   "cell_type": "code",
   "execution_count": 84,
   "metadata": {},
   "outputs": [],
   "source": [
    "prompt=f\"You are a very helpful chat assistant who answers the {user_input} with the {context} provide. Only answer based on the provided context dont add any other details\""
   ]
  },
  {
   "cell_type": "code",
   "execution_count": 85,
   "metadata": {},
   "outputs": [],
   "source": [
    "import openai\n",
    "\n",
    "openai.api_key=\"sk-proj-uZD7HxxxxxxxxxxxxxkFJjoWFgPxxxxxxxxxcJ\"\n",
    "\n",
    "response = openai.Completion.create(\n",
    "    model=\"gpt-3.5-turbo-instruct\",\n",
    "    prompt=prompt,\n",
    "    temperature=0,\n",
    "    max_tokens=300\n",
    ")"
   ]
  },
  {
   "cell_type": "code",
   "execution_count": 86,
   "metadata": {},
   "outputs": [
    {
     "data": {
      "text/plain": [
       "\"1. Contact the credit grantor: The first step to address negative entries on your credit report is to contact the credit grantor directly. This could be a bank, credit card company, or other financial institution. Explain the situation and see if they are willing to work with you to resolve the issue.\\n\\n2. Dispute the entry: If you believe the negative entry is inaccurate or incorrect, you can dispute it with the credit reporting agency. They are required to investigate and remove any inaccurate information from your report.\\n\\n3. Pay off any outstanding balances: If the negative entry is due to an unpaid balance, try to pay it off as soon as possible. This will show that you are taking responsibility for your debts and can help improve your credit score.\\n\\n4. Negotiate a settlement: If you are unable to pay off the full balance, you can try to negotiate a settlement with the credit grantor. This means agreeing to pay a portion of the debt in exchange for having the negative entry removed from your credit report.\\n\\n5. Keep track of your credit report: It's important to regularly check your credit report to make sure all the information is accurate. If you notice any new negative entries, take action immediately to address them.\\n\\n6. Build positive credit history: While negative entries can stay on your credit report for up to 7 years, you can start building positive credit history to offset the impact. Make sure to pay your bills on time, keep your credit card balances low,\""
      ]
     },
     "execution_count": 86,
     "metadata": {},
     "output_type": "execute_result"
    }
   ],
   "source": [
    "response.choices[0].text.strip()"
   ]
  },
  {
   "cell_type": "code",
   "execution_count": null,
   "metadata": {},
   "outputs": [],
   "source": []
  }
 ],
 "metadata": {
  "kernelspec": {
   "display_name": "Python 3",
   "language": "python",
   "name": "python3"
  },
  "language_info": {
   "codemirror_mode": {
    "name": "ipython",
    "version": 3
   },
   "file_extension": ".py",
   "mimetype": "text/x-python",
   "name": "python",
   "nbconvert_exporter": "python",
   "pygments_lexer": "ipython3",
   "version": "3.10.11"
  }
 },
 "nbformat": 4,
 "nbformat_minor": 2
}
